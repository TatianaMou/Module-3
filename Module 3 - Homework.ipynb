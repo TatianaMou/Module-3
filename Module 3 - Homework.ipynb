{
 "cells": [
  {
   "cell_type": "markdown",
   "metadata": {},
   "source": [
    "### Exercise 1\n",
    "Ask a user for 5 names and place each one in to a list called <i>names</i>. Then, print <i>names</i>."
   ]
  },
  {
   "cell_type": "code",
   "execution_count": 1,
   "metadata": {
    "scrolled": true
   },
   "outputs": [
    {
     "name": "stdout",
     "output_type": "stream",
     "text": [
      "Enter a name: Jonathan\n",
      "Enter a name: Tatiana\n",
      "Enter a name: Carla\n",
      "Enter a name: Mateo\n",
      "Enter a name: Sean\n",
      "['Jonathan', 'Tatiana', 'Carla', 'Mateo', 'Sean']\n"
     ]
    }
   ],
   "source": [
    "names = []\n",
    "\n",
    "# just repeated code\n",
    "names.append(input(\"Enter a name: \"))\n",
    "names.append(input(\"Enter a name: \"))\n",
    "names.append(input(\"Enter a name: \"))\n",
    "names.append(input(\"Enter a name: \"))\n",
    "names.append(input(\"Enter a name: \"))\n",
    "\n",
    "print(names)"
   ]
  },
  {
   "cell_type": "markdown",
   "metadata": {},
   "source": [
    "### Exercise 2\n",
    "Print out a randomly selected name in the names list."
   ]
  },
  {
   "cell_type": "code",
   "execution_count": 2,
   "metadata": {},
   "outputs": [
    {
     "data": {
      "text/plain": [
       "'Sean'"
      ]
     },
     "execution_count": 2,
     "metadata": {},
     "output_type": "execute_result"
    }
   ],
   "source": [
    "import random as rand\n",
    "\n",
    "r = rand.randint (0, 4)\n",
    "\n",
    "names[r]"
   ]
  },
  {
   "cell_type": "markdown",
   "metadata": {},
   "source": [
    "### Exercise 3\n",
    "\n",
    "Ask a user for a specific color and store that value into a variable. If the answer is gray, print \"You found Victor's favorite color!\". If the answer is anything besides gray, print \"[color name] is not Victor's favorite color.\""
   ]
  },
  {
   "cell_type": "code",
   "execution_count": 3,
   "metadata": {},
   "outputs": [
    {
     "name": "stdout",
     "output_type": "stream",
     "text": [
      "What is Victor's favorite color? purple\n",
      "You have guessed incorrectly.\n"
     ]
    }
   ],
   "source": [
    "def color(x):\n",
    "    if guess == \"gray\" or guess == \"grey\":\n",
    "        print (\"You found Victor's favorite color!\")\n",
    "    else:\n",
    "        print (\"You have guessed incorrectly.\")\n",
    "\n",
    "guess = input(\"What is Victor's favorite color? \")\n",
    "    \n",
    "color(guess)"
   ]
  },
  {
   "cell_type": "markdown",
   "metadata": {},
   "source": [
    "### Exercise 4\n",
    "Ask for an exam score and store that number. If the number is greater than 100, then print out 'You cannot have an exam score higher than 100'. If the number doesn't exceeed 100 but is greater than or equal to 75, then print out 'You did great on your exam!'. Otherwise if they scored lower than 75, then print out 'You need to study harder'."
   ]
  },
  {
   "cell_type": "code",
   "execution_count": 8,
   "metadata": {},
   "outputs": [
    {
     "name": "stdout",
     "output_type": "stream",
     "text": [
      "What is your score? 101\n",
      "You cannot have an exam score higher than 100.\n"
     ]
    }
   ],
   "source": [
    "def grade(x):\n",
    "    if score > 100:\n",
    "        print  (\"You cannot have an exam score higher than 100.\")\n",
    "    elif score < 75:\n",
    "        print (\"You need to study harder.\")\n",
    "    else:\n",
    "        print (\"You did great on your exam!\")\n",
    "        \n",
    "        \n",
    "score = int(input(\"What is your score? \"))\n",
    "\n",
    "grade(score)"
   ]
  },
  {
   "cell_type": "markdown",
   "metadata": {},
   "source": [
    "### Exercise 5\n",
    "Write a function to convert a test score to a grade where  \n",
    " - 90 - 100: A\n",
    " - 80 - 89:  B\n",
    " - 70 - 79:  C\n",
    " - 60 - 69:  D\n",
    " - < 60   :  F\n",
    " \n",
    "If a score is not between 0 and 100 then print out an error message. In the program, ask the user for a score and then call your function. "
   ]
  },
  {
   "cell_type": "code",
   "execution_count": 31,
   "metadata": {},
   "outputs": [
    {
     "name": "stdout",
     "output_type": "stream",
     "text": [
      "What is your score? 60\n",
      "Your grade is a D\n"
     ]
    }
   ],
   "source": [
    "def scores(x):\n",
    "    \n",
    "    if grade > 100 or grade < 0:\n",
    "        print (\"Error: score must be between 0 - 100\")\n",
    "    elif grade >= 90:\n",
    "        print (\"Your grade is an A\")\n",
    "    elif grade >= 80:\n",
    "        print (\"Your grade is a B\")\n",
    "    elif grade >= 70:\n",
    "        print (\"Your grade is a C\")\n",
    "    elif grade >= 60:\n",
    "        print (\"Your grade is a D\")\n",
    "    else:\n",
    "        print (\"Your grade is an F\")\n",
    "        \n",
    "grade = int(input(\"What is your score? \"))\n",
    "    \n",
    "scores(grade)"
   ]
  }
 ],
 "metadata": {
  "kernelspec": {
   "display_name": "Python 3 (ipykernel)",
   "language": "python",
   "name": "python3"
  },
  "language_info": {
   "codemirror_mode": {
    "name": "ipython",
    "version": 3
   },
   "file_extension": ".py",
   "mimetype": "text/x-python",
   "name": "python",
   "nbconvert_exporter": "python",
   "pygments_lexer": "ipython3",
   "version": "3.9.13"
  }
 },
 "nbformat": 4,
 "nbformat_minor": 4
}
